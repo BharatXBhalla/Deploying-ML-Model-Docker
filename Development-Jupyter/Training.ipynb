{
 "cells": [
  {
   "cell_type": "code",
   "execution_count": 1,
   "id": "2528545d",
   "metadata": {},
   "outputs": [],
   "source": [
    "from sklearn.datasets import load_iris"
   ]
  },
  {
   "cell_type": "code",
   "execution_count": 2,
   "id": "1f50a29f",
   "metadata": {},
   "outputs": [],
   "source": [
    "import pandas as pd"
   ]
  },
  {
   "cell_type": "code",
   "execution_count": 3,
   "id": "4545fded",
   "metadata": {},
   "outputs": [],
   "source": [
    "df = load_iris()"
   ]
  },
  {
   "cell_type": "code",
   "execution_count": 13,
   "id": "a06ce73d",
   "metadata": {},
   "outputs": [],
   "source": [
    "X=pd.DataFrame(data=df['data'],columns=df['feature_names'])"
   ]
  },
  {
   "cell_type": "code",
   "execution_count": 16,
   "id": "eb8e3f1b",
   "metadata": {},
   "outputs": [],
   "source": [
    "Y=df['target']"
   ]
  },
  {
   "cell_type": "code",
   "execution_count": 20,
   "id": "74decfe9",
   "metadata": {},
   "outputs": [],
   "source": [
    "Y_labels = {0:'setosa', 1:'versicolor', 2:'virginica'}"
   ]
  },
  {
   "cell_type": "code",
   "execution_count": 28,
   "id": "17e11f7d",
   "metadata": {},
   "outputs": [],
   "source": [
    "Y=pd.Series(Y).map(Y_labels)"
   ]
  },
  {
   "cell_type": "code",
   "execution_count": 29,
   "id": "3605baa8",
   "metadata": {},
   "outputs": [
    {
     "data": {
      "text/plain": [
       "0    setosa\n",
       "1    setosa\n",
       "2    setosa\n",
       "3    setosa\n",
       "4    setosa\n",
       "dtype: object"
      ]
     },
     "execution_count": 29,
     "metadata": {},
     "output_type": "execute_result"
    }
   ],
   "source": [
    "Y.head()"
   ]
  },
  {
   "cell_type": "code",
   "execution_count": 34,
   "id": "f70d120f",
   "metadata": {},
   "outputs": [],
   "source": [
    "from sklearn.model_selection import train_test_split\n",
    "\n",
    "x_train,x_test,y_train,y_test = train_test_split(X,Y,random_state=42)"
   ]
  },
  {
   "cell_type": "code",
   "execution_count": 35,
   "id": "5b5b2a1b",
   "metadata": {},
   "outputs": [],
   "source": [
    "from sklearn.ensemble import RandomForestClassifier\n",
    "clf = RandomForestClassifier(n_estimators=20)"
   ]
  },
  {
   "cell_type": "code",
   "execution_count": 36,
   "id": "4b6397bc",
   "metadata": {},
   "outputs": [],
   "source": [
    "clf = clf.fit(x_train,y_train)\n",
    "y_pred = clf.predict(x_test)"
   ]
  },
  {
   "cell_type": "code",
   "execution_count": 37,
   "id": "392d0c76",
   "metadata": {},
   "outputs": [
    {
     "name": "stdout",
     "output_type": "stream",
     "text": [
      "Accuracy :  1.0\n"
     ]
    }
   ],
   "source": [
    "from sklearn import metrics\n",
    "print(\"Accuracy : \",metrics.accuracy_score(y_test,y_pred))"
   ]
  },
  {
   "cell_type": "code",
   "execution_count": 39,
   "id": "5de87cb2",
   "metadata": {},
   "outputs": [
    {
     "data": {
      "text/plain": [
       "array([[15,  0,  0],\n",
       "       [ 0, 11,  0],\n",
       "       [ 0,  0, 12]], dtype=int64)"
      ]
     },
     "execution_count": 39,
     "metadata": {},
     "output_type": "execute_result"
    }
   ],
   "source": [
    "from sklearn.metrics import confusion_matrix\n",
    "confusion_matrix(y_test,y_pred)"
   ]
  },
  {
   "cell_type": "code",
   "execution_count": 40,
   "id": "a9c26e7d",
   "metadata": {},
   "outputs": [],
   "source": [
    "import pickle"
   ]
  },
  {
   "cell_type": "code",
   "execution_count": 43,
   "id": "8ec5bfcb",
   "metadata": {},
   "outputs": [],
   "source": [
    "pickle.dump(clf, open(\"..//model//model.sav\", 'wb'))"
   ]
  },
  {
   "cell_type": "code",
   "execution_count": 45,
   "id": "32792aa7",
   "metadata": {},
   "outputs": [],
   "source": [
    "!(pip3 freeze > requirements.txt) #This will generate all uneccessary files which juypter notebook use"
   ]
  },
  {
   "cell_type": "markdown",
   "id": "d4f6aba3",
   "metadata": {},
   "source": [
    "Now Convert Training file to .py\n",
    "\n",
    "run pipreqs to get requirements.txt\n",
    "\n",
    "Save requirements.txt \n",
    "\n",
    "Move requirements.txt to folder containing Dockerfile"
   ]
  },
  {
   "cell_type": "code",
   "execution_count": 46,
   "id": "4960c2f5",
   "metadata": {},
   "outputs": [
    {
     "name": "stderr",
     "output_type": "stream",
     "text": [
      "INFO: Successfully saved requirements file in C:\\Users\\Gunisha\\CDAC\\Deploying-ML-Model-Docker\\Development-Jupyter\\requirements.txt\n"
     ]
    }
   ],
   "source": [
    "!pipreqs"
   ]
  },
  {
   "cell_type": "code",
   "execution_count": null,
   "id": "46624ca4",
   "metadata": {},
   "outputs": [],
   "source": []
  }
 ],
 "metadata": {
  "kernelspec": {
   "display_name": "Python 3",
   "language": "python",
   "name": "python3"
  },
  "language_info": {
   "codemirror_mode": {
    "name": "ipython",
    "version": 3
   },
   "file_extension": ".py",
   "mimetype": "text/x-python",
   "name": "python",
   "nbconvert_exporter": "python",
   "pygments_lexer": "ipython3",
   "version": "3.8.8"
  }
 },
 "nbformat": 4,
 "nbformat_minor": 5
}
